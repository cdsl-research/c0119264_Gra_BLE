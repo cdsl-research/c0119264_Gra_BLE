{
 "cells": [
  {
   "cell_type": "code",
   "execution_count": 5,
   "metadata": {},
   "outputs": [],
   "source": [
    "# RSSIの平均値をそれぞれ代入(近い方)\n",
    "RSSI_H1 = -65.9523\n",
    "RSSI_H2 = -48.1836\n",
    "RSSI_H3 = -68.80\n"
   ]
  },
  {
   "cell_type": "code",
   "execution_count": 6,
   "metadata": {},
   "outputs": [
    {
     "name": "stdout",
     "output_type": "stream",
     "text": [
      "131.9 1.0999999999999999 109.7\n"
     ]
    }
   ],
   "source": [
    "import math\n",
    "\n",
    "H1_m=round(abs(-(RSSI_H1)/(-17.41)+((-46.678)/(-17.41)))**math.e,3)*100\n",
    "H2_m=round(abs(-(RSSI_H2)/(-19.96)+((-44.337)/(-19.96)))**math.e,3)*100\n",
    "H3_m=round(abs(-(RSSI_H3)/(-23.39)+((-44.598)/(-23.39)))**math.e,3)*100\n",
    "\n",
    "print(H1_m,H2_m,H3_m)"
   ]
  },
  {
   "cell_type": "code",
   "execution_count": 62,
   "metadata": {},
   "outputs": [],
   "source": [
    "# ビーコンの座標データを入力\n",
    "import math\n",
    "\n",
    "H1_x, H1_y = 735-100, 435\n",
    "H2_x, H2_y = 735, 435+100\n",
    "H3_x, H3_y = 735-100*math.sin(30),435+100*math.cos(30)"
   ]
  },
  {
   "cell_type": "code",
   "execution_count": 63,
   "metadata": {
    "scrolled": true
   },
   "outputs": [
    {
     "name": "stdout",
     "output_type": "stream",
     "text": [
      "p12_b:93.40160884423005\n",
      "p23_b:90.08669507451089\n",
      "p13_b:115.51910337651842\n",
      "734.2162265907054 424.03945352754243\n"
     ]
    }
   ],
   "source": [
    "# the crossing points of two circles\n",
    "def circles_cross_points(x1, y1, r1, x2, y2, r2):\n",
    "    rr0 = (x2 - x1)**2 + (y2 - y1)**2\n",
    "    xd = x2 - x1\n",
    "    yd = y2 - y1\n",
    "    rr1 = r1**2; rr2 = r2**2\n",
    "    cv = (rr0 + rr1 - rr2)\n",
    "    sv = (4*rr0*rr1 - cv**2)**.5\n",
    "    return (\n",
    "        (x1 + (cv*xd - sv*yd)/(2.*rr0), y1 + (cv*yd + sv*xd)/(2.*rr0)),\n",
    "        (x1 + (cv*xd + sv*yd)/(2.*rr0), y1 + (cv*yd - sv*xd)/(2.*rr0)),\n",
    "    )\n",
    "\n",
    "\n",
    "p12_a, p12_b = circles_cross_points(H1_x, H1_y, H1_m, H2_x, H2_y, H2_m)\n",
    "#print(\"(%.4f, %.4f) (%.4f, %.4f)\" % (p12_a + p12_b))\n",
    "\n",
    "#円の交点2つの内，3つ目のビーコンに近い座標を選択\n",
    "distance_P12_a=(math.sqrt(((p12_a[0]-H3_x)**2)+(p12_a[1]-H3_y)**2))\n",
    "distance_P12_b=(math.sqrt(((p12_b[0]-H3_x)**2)+(p12_b[1]-H3_y)**2))\n",
    "if distance_P12_a < distance_P12_b:\n",
    "    print(f\"p12_a:{distance_P12_a}\")\n",
    "else:\n",
    "    print(f\"p12_b:{distance_P12_b}\")\n",
    "\n",
    "p23_a,p23_b = circles_cross_points(H2_x,H2_y,H2_m,H3_x,H3_y,H3_m)\n",
    "#print(\"(%.4f, %.4f) (%.4f, %.4f)\" % (p23_a + p23_b))\n",
    "\n",
    "\n",
    "distance_P23_a=(math.sqrt(((p23_a[0]-H1_x)**2)+(p23_b[1]-H1_y)**2))\n",
    "distance_P23_b=(math.sqrt(((p23_b[0]-H1_x)**2)+(p23_b[1]-H1_y)**2))\n",
    "if distance_P23_a < distance_P23_b:\n",
    "    print(f\"p23_a:{distance_P23_a}\")\n",
    "else:\n",
    "    print(f\"p23_b:{distance_P23_b}\")\n",
    "    \n",
    "\n",
    "p13_a, p13_b = circles_cross_points(H1_x,H1_y,H1_m,H3_x,H3_y,H3_m)\n",
    "#print(\"(%.4f, %.4f) (%.4f, %.4f)\" % (p13_a + p13_b))\n",
    "\n",
    "distance_P13_a=(math.sqrt(((p13_a[0]-H3_x)**2)+(p13_a[1]-H3_y)**2))\n",
    "distance_P13_b=(math.sqrt(((p13_a[0]-H3_x)**2)+(p13_b[1]-H3_y)**2))\n",
    "\n",
    "if distance_P13_a > distance_P13_b:\n",
    "    print(f\"p13_a:{distance_P13_a}\")\n",
    "    i=0\n",
    "else:\n",
    "    print(f\"p13_b:{distance_P13_b}\")\n",
    "    i=1\n",
    "\n",
    "    \n",
    "x=(p12_b[0]+p23_b[0]+p13_b[0])/3\n",
    "y=(p12_b[1]+p23_b[1]+p13_b[1])/3\n",
    "\n",
    "print(x,y)\n"
   ]
  },
  {
   "cell_type": "code",
   "execution_count": 68,
   "metadata": {},
   "outputs": [
    {
     "name": "stdout",
     "output_type": "stream",
     "text": [
      "778.4324768992961 472.7963973806139\n"
     ]
    }
   ],
   "source": [
    "\n",
    "    \n",
    "\n",
    "#ビーコンH1,H2の距離\n",
    "\n",
    "def zyusin(x1,y1,x2,y2):\n",
    "    \n",
    "    \n",
    "    katamuki = -(y2-y1) / (x2-x1)\n",
    "\n",
    "    b=katamuki*x1+y1\n",
    "\n",
    "    #print(f\"y={katamuki}x+{b}\")\n",
    "\n",
    "    \n",
    "    #makeLinearEquation(x1,y1,x2,y2)\n",
    "\n",
    "    distance_H3_H1=(math.sqrt(((x2-x1)**2)+(y2-y1)**2))\n",
    "    #print(f\"ビーコンH1とビーコンH3の距離は{round(distance_H3_H1,3)}cm\")\n",
    "\n",
    "    #print(f\"ビーコンH1の距離は{H1_m}cm,ビーコンH3の距離は{H3_m}cm\")\n",
    "\n",
    "    #ビーコンの電波間の距離\n",
    "    distance_denpa_H3_H1=abs(distance_H3_H1-H3_m-H1_m)\n",
    "    #print(f\"ビーコン電波間の距離は{round(distance_denpa_H3_H1,3)}cm\")\n",
    "\n",
    "    #青い点\n",
    "    #print(f\"青い点は電波の端から{round(distance_denpa_H3_H1/2,3)}cm\")\n",
    "\n",
    "    blue_distance=H1_m+round(distance_denpa_H3_H1/2,3)\n",
    "    #print(f\"ビーコンH1から青い点の距離は{round(blue_distance,3)}cm\")\n",
    "\n",
    "    hiritu1=distance_H3_H1/blue_distance\n",
    "    #print(f\"比率は{hiritu1}:1\")\n",
    "    H3_H1_ao=x1+(x2-x1)/hiritu1\n",
    "\n",
    "    #print(H3_H1_ao)\n",
    "\n",
    "    y=-katamuki*H3_H1_ao+b\n",
    "    return (H3_H1_ao,y)\n",
    "\n",
    "zyusin1=zyusin(H1_x,H1_y,H3_x,H3_y)\n",
    "\n",
    "zyusin2=zyusin(H1_x,H1_y,H2_x,H2_y)\n",
    "\n",
    "zyusin3=zyusin(H2_x,H2_y,H3_x,H3_y)\n",
    "\n",
    "print((zyusin1[0]+zyusin2[0]+zyusin3[0])/3,(zyusin1[1]+zyusin2[1]+zyusin3[1])/3)\n"
   ]
  },
  {
   "cell_type": "code",
   "execution_count": 83,
   "metadata": {},
   "outputs": [
    {
     "name": "stdout",
     "output_type": "stream",
     "text": [
      "y=1.0x+-200.0\n",
      "ビーコンH1とビーコンH2の距離は141.4213562373095cm\n",
      "139.58335623730952\n",
      "69.79167811865476\n",
      "0.506583879516678\n",
      "y=0.077590038316402x+385.7303256690847\n",
      "2.2503416266178604\n",
      "y=-0.8559934009085187x+1164.1551496677612\n",
      "-27.221215984288307\n"
     ]
    }
   ],
   "source": [
    "def makeLinearEquation(x1,y1,x2,y2):\n",
    "    \n",
    "    line = (y1-y2) / (x1-x2)\n",
    "    katamuki = y1 - (line * x1)\n",
    "    \n",
    "    return print(f\"y={line}x+{katamuki}\")\n",
    "\n",
    "#ビーコンH1,H2の距離\n",
    "makeLinearEquation(H1_x,H1_y,H2_x,H2_y)\n",
    "distance_H2_H1=(math.sqrt(((H2_x-H1_x)**2)+(H2_y-H1_y)**2))\n",
    "print(f\"ビーコンH1とビーコンH2の距離は{distance_H2_H1}cm\")\n",
    "#ビーコンの電波間の距離\n",
    "H2_H1_distance=distance_H2_H1-H2_m-H1_m\n",
    "print(H2_H1_distance)\n",
    "\n",
    "#青い点\n",
    "print(H2_H1_distance/2)\n",
    "\n",
    "print(distance_H2_H1/H2_H1_distance/2)\n",
    "\n",
    "\n",
    "#ビーコンH1,H3の距離\n",
    "makeLinearEquation(H1_x,H1_y,H3_x,H3_y)\n",
    "distance_H3_H1=(math.sqrt(((H3_x-H1_x)**2)+(H3_y-H1_y)**2))\n",
    "#ビーコン間の距離\n",
    "H3_H1_distance=distance_H3_H1-H3_m*100-H1_m*100\n",
    "#円と円の距離\n",
    "print(H3_H1_distance/2)\n",
    "\n",
    "#ビーコンH2, H3の距離\n",
    "makeLinearEquation(H2_x,H2_y,H3_x,H3_y)\n",
    "distance_H3_H2=(math.sqrt(((H3_x-H2_x)**2)+(H3_y-H2_y)**2))\n",
    "#ビーコン間の距離\n",
    "H3_H2_distance=distance_H3_H2-H3_m*100-H2_m*100\n",
    "#円と円の距離\n",
    "print(H3_H2_distance/2)\n",
    "\n",
    "distance_P23_a=(math.sqrt(((p23_a[0]-H1_x)**2)+(p23_b[1]-H1_y)**2))"
   ]
  },
  {
   "cell_type": "code",
   "execution_count": 22,
   "metadata": {},
   "outputs": [
    {
     "name": "stdout",
     "output_type": "stream",
     "text": [
      "#There are two intersection points\n"
     ]
    },
    {
     "data": {
      "text/plain": [
       "()"
      ]
     },
     "execution_count": 22,
     "metadata": {},
     "output_type": "execute_result"
    }
   ],
   "source": [
    "\n",
    "\n",
    "def get_intersection(x1, y1, r1, x2, y2, r2):\n",
    "    a = H2_x - H1_x\n",
    "    b = H2_y - H1_y\n",
    "    c = H2_m - H1_m\n",
    "    if c ** 2 > a ** 2 + b ** 2:\n",
    "        print(\"#There is no intersection\")\n",
    "    elif c ** 2 == a ** 2 + b ** 2:\n",
    "        print(\"#There is a single intersection point\")\n",
    "    else:\n",
    "        print(\"#There are two intersection points\")\n",
    "    return()\n",
    "get_intersection(0,0,1,1,0,1)\n",
    "#There are two intersection points"
   ]
  },
  {
   "cell_type": "code",
   "execution_count": null,
   "metadata": {},
   "outputs": [],
   "source": [
    "#円の中心\n",
    "\n",
    "\n",
    "H1_ring=(x-H1_x)**2+(y-H1_y)**2-(H1-m)**2\n",
    "H2_ring=(x-H2_x)**2+(y-H2_y)**2-(H2-m)**2\n",
    "H3_ring=(x-H3_x)**2+(y-H3_y)**2-(H3-m)**2\n",
    "v1=H1_ring-H2_ring\n",
    "v2=H1_ring-H3_ring\n",
    "print(v1)\n",
    "\n"
   ]
  },
  {
   "cell_type": "code",
   "execution_count": 104,
   "metadata": {},
   "outputs": [
    {
     "name": "stdout",
     "output_type": "stream",
     "text": [
      "426.8423867189478 723.1429854255521\n"
     ]
    }
   ],
   "source": [
    "# 2つの円の交点を出す式を2つ作り，整理\n",
    "va = ((H2_m ** 2 - H3_m ** 2) - (H2_x ** 2 - H3_x ** 2) - (H2_y ** 2 - H3_y ** 2)) / 2.0\n",
    "vb = ((H2_m ** 2 - H1_m ** 2) - (H2_x ** 2 - H1_x ** 2) - (H2_y ** 2 - H1_y ** 2)) / 2.0\n",
    "\n",
    "# x, y座標を求める\n",
    "y = (vb * (xc - xb) - va * (xa - xb)) / ((ya - yb) * (xc - xb) - (yc - yb) * (xa - xb))\n",
    "x = (va - y * (yc - yb)) / (xc - xb)\n",
    "\n",
    "print(x, y)"
   ]
  },
  {
   "cell_type": "code",
   "execution_count": null,
   "metadata": {},
   "outputs": [],
   "source": []
  }
 ],
 "metadata": {
  "kernelspec": {
   "display_name": "Python 3",
   "language": "python",
   "name": "python3"
  },
  "language_info": {
   "codemirror_mode": {
    "name": "ipython",
    "version": 3
   },
   "file_extension": ".py",
   "mimetype": "text/x-python",
   "name": "python",
   "nbconvert_exporter": "python",
   "pygments_lexer": "ipython3",
   "version": "3.8.5"
  },
  "vscode": {
   "interpreter": {
    "hash": "df0893f56f349688326838aaeea0de204df53a132722cbd565e54b24a8fec5f6"
   }
  }
 },
 "nbformat": 4,
 "nbformat_minor": 2
}
